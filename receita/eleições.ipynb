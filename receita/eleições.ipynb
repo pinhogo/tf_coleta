{
 "cells": [
  {
   "cell_type": "code",
   "execution_count": 9,
   "metadata": {},
   "outputs": [],
   "source": [
    "import pandas as pd\n",
    "import pandas as pd\n",
    "import seaborn as sns\n",
    "import numpy as np"
   ]
  },
  {
   "cell_type": "code",
   "execution_count": 10,
   "metadata": {},
   "outputs": [
    {
     "name": "stderr",
     "output_type": "stream",
     "text": [
      "/tmp/ipykernel_5157/993629280.py:18: DtypeWarning: Columns (5) have mixed types. Specify dtype option on import or set low_memory=False.\n",
      "  tabela = pd.read_csv(arquivo, encoding='latin1', sep=';')  # Carrega a tabela\n",
      "/tmp/ipykernel_5157/993629280.py:18: DtypeWarning: Columns (5) have mixed types. Specify dtype option on import or set low_memory=False.\n",
      "  tabela = pd.read_csv(arquivo, encoding='latin1', sep=';')  # Carrega a tabela\n",
      "/tmp/ipykernel_5157/993629280.py:18: DtypeWarning: Columns (5) have mixed types. Specify dtype option on import or set low_memory=False.\n",
      "  tabela = pd.read_csv(arquivo, encoding='latin1', sep=';')  # Carrega a tabela\n",
      "/tmp/ipykernel_5157/993629280.py:18: DtypeWarning: Columns (5) have mixed types. Specify dtype option on import or set low_memory=False.\n",
      "  tabela = pd.read_csv(arquivo, encoding='latin1', sep=';')  # Carrega a tabela\n",
      "/tmp/ipykernel_5157/993629280.py:18: DtypeWarning: Columns (5) have mixed types. Specify dtype option on import or set low_memory=False.\n",
      "  tabela = pd.read_csv(arquivo, encoding='latin1', sep=';')  # Carrega a tabela\n",
      "/tmp/ipykernel_5157/993629280.py:18: DtypeWarning: Columns (5) have mixed types. Specify dtype option on import or set low_memory=False.\n",
      "  tabela = pd.read_csv(arquivo, encoding='latin1', sep=';')  # Carrega a tabela\n",
      "/tmp/ipykernel_5157/993629280.py:18: DtypeWarning: Columns (5) have mixed types. Specify dtype option on import or set low_memory=False.\n",
      "  tabela = pd.read_csv(arquivo, encoding='latin1', sep=';')  # Carrega a tabela\n"
     ]
    },
    {
     "name": "stdout",
     "output_type": "stream",
     "text": [
      "   DT_GERACAO HH_GERACAO  CD_TP_ESFERA_PARTIDARIA DS_TP_ESPERA_PARTIDARIA  \\\n",
      "0  19/10/2024   16:31:30                        2                Estadual   \n",
      "1  19/10/2024   16:28:54                        2                Estadual   \n",
      "2  19/10/2024   16:28:54                        2                Estadual   \n",
      "3  19/10/2024   16:28:54                        2                Estadual   \n",
      "4  19/10/2024   16:28:54                        2                Estadual   \n",
      "\n",
      "  SG_UF CD_MUNICIPIO NM_MUNICIPIO NR_ZONA  NR_CNPJ_PRESTADOR_CONTA SG_PARTIDO  \\\n",
      "0    RS       #NULO#       #NULO#  #NULO#            8816031000127       AGIR   \n",
      "1    RS       #NULO#       #NULO#  #NULO#           91251322000169  CIDADANIA   \n",
      "2    RS       #NULO#       #NULO#  #NULO#           91251322000169  CIDADANIA   \n",
      "3    RS       #NULO#       #NULO#  #NULO#           91251322000169  CIDADANIA   \n",
      "4    RS       #NULO#       #NULO#  #NULO#           91251322000169  CIDADANIA   \n",
      "\n",
      "   ... CD_TP_NATUREZA_RECURSO DS_TP_NATUREZA_RECURSO CD_TP_ESPECIE_RECURSO  \\\n",
      "0  ...                 #NULO#                 #NULO#                #NULO#   \n",
      "1  ...                      0             Financeiro                     8   \n",
      "2  ...                      0             Financeiro                     8   \n",
      "3  ...                      0             Financeiro                     8   \n",
      "4  ...                      0             Financeiro                     8   \n",
      "\n",
      "  DS_TP_ESPECIE_RECURSO NR_RECIBO_DOACAO NR_DOCUMENTO  DT_RECEITA  \\\n",
      "0                #NULO#           #NULO#       #NULO#         NaN   \n",
      "1      Aviso de Crédito           #NULO#          S/N  01/03/2017   \n",
      "2      Aviso de Crédito           #NULO#          S/N  03/04/2017   \n",
      "3      Aviso de Crédito           #NULO#          S/N  01/03/2017   \n",
      "4      Aviso de Crédito           #NULO#          S/N  02/05/2017   \n",
      "\n",
      "                             DS_RECEITA VR_RECEITA   ano  \n",
      "0                                #NULO#          0  2017  \n",
      "1  CONTRIBUIÇÕES - OUTRAS CONTRIBUIÇÕES        192  2017  \n",
      "2  CONTRIBUIÇÕES - OUTRAS CONTRIBUIÇÕES        192  2017  \n",
      "3           CONTRIBUIÇÕES - DE FILIADOS        115  2017  \n",
      "4           CONTRIBUIÇÕES - DE FILIADOS        115  2017  \n",
      "\n",
      "[5 rows x 37 columns]\n"
     ]
    }
   ],
   "source": [
    "# Lista com os nomes dos arquivos e anos correspondentes\n",
    "arquivos = [\n",
    "    'receita_anual_2017_RS.csv',\n",
    "    'receita_anual_2018_RS.csv',\n",
    "    'receita_anual_2019_RS.csv',\n",
    "    'receita_anual_2020_RS.csv',\n",
    "    'receita_anual_2021_RS.csv',\n",
    "    'receita_anual_2022_RS.csv',\n",
    "    'receita_anual_2023_RS.csv',\n",
    "    'receita_anual_2024_RS.csv'\n",
    "]\n",
    "\n",
    "anos = [2017, 2018, 2019, 2020, 2021, 2022, 2023, 2024]\n",
    "\n",
    "# Carregar cada tabela e adicionar a coluna 'ano'\n",
    "tabelas = []\n",
    "for arquivo, ano in zip(arquivos, anos):\n",
    "    tabela = pd.read_csv(arquivo, encoding='latin1', sep=';')  # Carrega a tabela\n",
    "    tabela['ano'] = ano  # Adiciona a nova coluna 'ano'\n",
    "    tabelas.append(tabela)  # Armazena a tabela na lista\n",
    "\n",
    "# Concatenar todas as tabelas em uma única tabela final\n",
    "data = pd.concat(tabelas, ignore_index=True)\n",
    "\n",
    "# Exibir as primeiras linhas da tabela completa para verificação\n",
    "print(data.head())\n"
   ]
  },
  {
   "cell_type": "code",
   "execution_count": 11,
   "metadata": {},
   "outputs": [],
   "source": [
    "# dataframes = []\n",
    "\n",
    "# for file in tabela_completa:\n",
    "#     df = pd.read_csv(file, encoding='latin1', sep=';')\n",
    "#     dataframes.append(df)\n",
    "\n",
    "# data = pd.concat(dataframes, ignore_index=True)\n",
    "\n",
    "# data.head()"
   ]
  },
  {
   "cell_type": "code",
   "execution_count": 12,
   "metadata": {},
   "outputs": [],
   "source": [
    "data.drop(['DT_GERACAO','HH_GERACAO','CD_TP_ESFERA_PARTIDARIA','DS_TP_ESPERA_PARTIDARIA','SG_UF','NR_ZONA','NR_ZONA', 'CD_TP_NATUREZA_RECURSO','DS_TP_NATUREZA_RECURSO', 'CD_TP_ESPECIE_RECURSO', 'DS_TP_ESPECIE_RECURSO', 'NR_RECIBO_DOACAO', 'NR_DOCUMENTO', 'CD_TP_FONTE_RECURSO', 'NM_PARTIDO', 'CD_TP_ESFERA_PARTIDARIA_DOADOR', 'NR_ZONA_DOADOR', 'SQ_CANDIDATO_DOADOR', 'SQ_CANDIDATO_DOADOR', 'SQ_CANDIDATO_DOADOR', 'DS_CANDIDATO_CARGO_DOADOR', 'CD_TP_FONTE_RECURSO', 'DS_TP_FONTE_RECURSO', 'DT_RECEITA','NR_CANDIDATO_DOADOR', 'CD_CANDIDATO_CARGO_DOADOR', 'DS_TP_ESFERA_PARTIDARIA_DOADOR', 'SG_UF_DOADOR', 'CD_MUNICIPIO_DOADOR', 'NM_MUNICIPIO_DOADOR', 'DS_TP_ORIGEM_DOACAO','NR_CPF_CNPJ_DOADOR'], axis=1, inplace=True)"
   ]
  },
  {
   "cell_type": "code",
   "execution_count": 13,
   "metadata": {},
   "outputs": [
    {
     "data": {
      "text/html": [
       "<div>\n",
       "<style scoped>\n",
       "    .dataframe tbody tr th:only-of-type {\n",
       "        vertical-align: middle;\n",
       "    }\n",
       "\n",
       "    .dataframe tbody tr th {\n",
       "        vertical-align: top;\n",
       "    }\n",
       "\n",
       "    .dataframe thead th {\n",
       "        text-align: right;\n",
       "    }\n",
       "</style>\n",
       "<table border=\"1\" class=\"dataframe\">\n",
       "  <thead>\n",
       "    <tr style=\"text-align: right;\">\n",
       "      <th></th>\n",
       "      <th>CD_MUNICIPIO</th>\n",
       "      <th>NM_MUNICIPIO</th>\n",
       "      <th>NR_CNPJ_PRESTADOR_CONTA</th>\n",
       "      <th>SG_PARTIDO</th>\n",
       "      <th>CD_TP_ORIGEM_DOACAO</th>\n",
       "      <th>NM_DOADOR</th>\n",
       "      <th>DS_RECEITA</th>\n",
       "      <th>VR_RECEITA</th>\n",
       "      <th>ano</th>\n",
       "    </tr>\n",
       "  </thead>\n",
       "  <tbody>\n",
       "    <tr>\n",
       "      <th>250293</th>\n",
       "      <td>8879</td>\n",
       "      <td>SÃO LOURENÇO DO SUL</td>\n",
       "      <td>3741784000105</td>\n",
       "      <td>PDT</td>\n",
       "      <td>1</td>\n",
       "      <td>ANA JULIA SCHAUN GONÇALVES</td>\n",
       "      <td>CONTRIBUIÇÕES - OUTRAS CONTRIBUIÇÕES</td>\n",
       "      <td>60</td>\n",
       "      <td>2020</td>\n",
       "    </tr>\n",
       "    <tr>\n",
       "      <th>155328</th>\n",
       "      <td>8917</td>\n",
       "      <td>SOBRADINHO</td>\n",
       "      <td>3859966000177</td>\n",
       "      <td>MDB</td>\n",
       "      <td>1</td>\n",
       "      <td>AMARILDO AURELIO FARDIN</td>\n",
       "      <td>CONTRIBUIÇÕES - DE FILIADOS</td>\n",
       "      <td>100</td>\n",
       "      <td>2019</td>\n",
       "    </tr>\n",
       "    <tr>\n",
       "      <th>276751</th>\n",
       "      <td>8801</td>\n",
       "      <td>PORTO ALEGRE</td>\n",
       "      <td>3195803000137</td>\n",
       "      <td>PT</td>\n",
       "      <td>1</td>\n",
       "      <td>SANDRO R DA CRUZ</td>\n",
       "      <td>CONTRIBUIÇÕES - OUTRAS CONTRIBUIÇÕES</td>\n",
       "      <td>22,5</td>\n",
       "      <td>2020</td>\n",
       "    </tr>\n",
       "    <tr>\n",
       "      <th>432179</th>\n",
       "      <td>8721</td>\n",
       "      <td>JAGUARÃO</td>\n",
       "      <td>93855443000145</td>\n",
       "      <td>PT</td>\n",
       "      <td>1</td>\n",
       "      <td>Claudia Berneira</td>\n",
       "      <td>OUTRAS RECEITAS DIVERSAS - OUTRAS RECEITAS DIV...</td>\n",
       "      <td>60</td>\n",
       "      <td>2022</td>\n",
       "    </tr>\n",
       "    <tr>\n",
       "      <th>443732</th>\n",
       "      <td>8855</td>\n",
       "      <td>SANTO ANTÔNIO DA PATRULHA</td>\n",
       "      <td>1477927000180</td>\n",
       "      <td>PTB</td>\n",
       "      <td>2</td>\n",
       "      <td>IAGO VALDIR SANTOS DA SILVA</td>\n",
       "      <td>OUTRAS RECEITAS DIVERSAS - OUTRAS RECEITAS DIV...</td>\n",
       "      <td>55</td>\n",
       "      <td>2022</td>\n",
       "    </tr>\n",
       "  </tbody>\n",
       "</table>\n",
       "</div>"
      ],
      "text/plain": [
       "       CD_MUNICIPIO               NM_MUNICIPIO  NR_CNPJ_PRESTADOR_CONTA  \\\n",
       "250293         8879        SÃO LOURENÇO DO SUL            3741784000105   \n",
       "155328         8917                 SOBRADINHO            3859966000177   \n",
       "276751         8801               PORTO ALEGRE            3195803000137   \n",
       "432179         8721                   JAGUARÃO           93855443000145   \n",
       "443732         8855  SANTO ANTÔNIO DA PATRULHA            1477927000180   \n",
       "\n",
       "       SG_PARTIDO CD_TP_ORIGEM_DOACAO                    NM_DOADOR  \\\n",
       "250293        PDT                   1   ANA JULIA SCHAUN GONÇALVES   \n",
       "155328        MDB                   1      AMARILDO AURELIO FARDIN   \n",
       "276751         PT                   1             SANDRO R DA CRUZ   \n",
       "432179         PT                   1             Claudia Berneira   \n",
       "443732        PTB                   2  IAGO VALDIR SANTOS DA SILVA   \n",
       "\n",
       "                                               DS_RECEITA VR_RECEITA   ano  \n",
       "250293               CONTRIBUIÇÕES - OUTRAS CONTRIBUIÇÕES         60  2020  \n",
       "155328                        CONTRIBUIÇÕES - DE FILIADOS        100  2019  \n",
       "276751               CONTRIBUIÇÕES - OUTRAS CONTRIBUIÇÕES       22,5  2020  \n",
       "432179  OUTRAS RECEITAS DIVERSAS - OUTRAS RECEITAS DIV...         60  2022  \n",
       "443732  OUTRAS RECEITAS DIVERSAS - OUTRAS RECEITAS DIV...         55  2022  "
      ]
     },
     "execution_count": 13,
     "metadata": {},
     "output_type": "execute_result"
    }
   ],
   "source": [
    "data.sample(n=5)"
   ]
  },
  {
   "cell_type": "code",
   "execution_count": 14,
   "metadata": {},
   "outputs": [],
   "source": [
    "data = data[data['VR_RECEITA'] != '0']"
   ]
  },
  {
   "cell_type": "code",
   "execution_count": 15,
   "metadata": {},
   "outputs": [
    {
     "data": {
      "text/html": [
       "<div>\n",
       "<style scoped>\n",
       "    .dataframe tbody tr th:only-of-type {\n",
       "        vertical-align: middle;\n",
       "    }\n",
       "\n",
       "    .dataframe tbody tr th {\n",
       "        vertical-align: top;\n",
       "    }\n",
       "\n",
       "    .dataframe thead th {\n",
       "        text-align: right;\n",
       "    }\n",
       "</style>\n",
       "<table border=\"1\" class=\"dataframe\">\n",
       "  <thead>\n",
       "    <tr style=\"text-align: right;\">\n",
       "      <th></th>\n",
       "      <th>CD_MUNICIPIO</th>\n",
       "      <th>NM_MUNICIPIO</th>\n",
       "      <th>NR_CNPJ_PRESTADOR_CONTA</th>\n",
       "      <th>SG_PARTIDO</th>\n",
       "      <th>CD_TP_ORIGEM_DOACAO</th>\n",
       "      <th>NM_DOADOR</th>\n",
       "      <th>DS_RECEITA</th>\n",
       "      <th>VR_RECEITA</th>\n",
       "      <th>ano</th>\n",
       "    </tr>\n",
       "  </thead>\n",
       "  <tbody>\n",
       "    <tr>\n",
       "      <th>1</th>\n",
       "      <td>#NULO#</td>\n",
       "      <td>#NULO#</td>\n",
       "      <td>91251322000169</td>\n",
       "      <td>CIDADANIA</td>\n",
       "      <td>1</td>\n",
       "      <td>ADRIANE PARANHOS DA ROCHA</td>\n",
       "      <td>CONTRIBUIÇÕES - OUTRAS CONTRIBUIÇÕES</td>\n",
       "      <td>192</td>\n",
       "      <td>2017</td>\n",
       "    </tr>\n",
       "    <tr>\n",
       "      <th>2</th>\n",
       "      <td>#NULO#</td>\n",
       "      <td>#NULO#</td>\n",
       "      <td>91251322000169</td>\n",
       "      <td>CIDADANIA</td>\n",
       "      <td>1</td>\n",
       "      <td>ADRIANE PARANHOS DA ROCHA</td>\n",
       "      <td>CONTRIBUIÇÕES - OUTRAS CONTRIBUIÇÕES</td>\n",
       "      <td>192</td>\n",
       "      <td>2017</td>\n",
       "    </tr>\n",
       "    <tr>\n",
       "      <th>3</th>\n",
       "      <td>#NULO#</td>\n",
       "      <td>#NULO#</td>\n",
       "      <td>91251322000169</td>\n",
       "      <td>CIDADANIA</td>\n",
       "      <td>1</td>\n",
       "      <td>MARCELO DA SILVA FOGAÇA</td>\n",
       "      <td>CONTRIBUIÇÕES - DE FILIADOS</td>\n",
       "      <td>115</td>\n",
       "      <td>2017</td>\n",
       "    </tr>\n",
       "    <tr>\n",
       "      <th>4</th>\n",
       "      <td>#NULO#</td>\n",
       "      <td>#NULO#</td>\n",
       "      <td>91251322000169</td>\n",
       "      <td>CIDADANIA</td>\n",
       "      <td>1</td>\n",
       "      <td>MARCELO DA SILVA FOGAÇA</td>\n",
       "      <td>CONTRIBUIÇÕES - DE FILIADOS</td>\n",
       "      <td>115</td>\n",
       "      <td>2017</td>\n",
       "    </tr>\n",
       "    <tr>\n",
       "      <th>5</th>\n",
       "      <td>#NULO#</td>\n",
       "      <td>#NULO#</td>\n",
       "      <td>91251322000169</td>\n",
       "      <td>CIDADANIA</td>\n",
       "      <td>1</td>\n",
       "      <td>CRISTIANO SANTOS ANTUNES</td>\n",
       "      <td>CONTRIBUIÇÕES - OUTRAS CONTRIBUIÇÕES</td>\n",
       "      <td>145</td>\n",
       "      <td>2017</td>\n",
       "    </tr>\n",
       "  </tbody>\n",
       "</table>\n",
       "</div>"
      ],
      "text/plain": [
       "  CD_MUNICIPIO NM_MUNICIPIO  NR_CNPJ_PRESTADOR_CONTA SG_PARTIDO  \\\n",
       "1       #NULO#       #NULO#           91251322000169  CIDADANIA   \n",
       "2       #NULO#       #NULO#           91251322000169  CIDADANIA   \n",
       "3       #NULO#       #NULO#           91251322000169  CIDADANIA   \n",
       "4       #NULO#       #NULO#           91251322000169  CIDADANIA   \n",
       "5       #NULO#       #NULO#           91251322000169  CIDADANIA   \n",
       "\n",
       "  CD_TP_ORIGEM_DOACAO                  NM_DOADOR  \\\n",
       "1                   1  ADRIANE PARANHOS DA ROCHA   \n",
       "2                   1  ADRIANE PARANHOS DA ROCHA   \n",
       "3                   1    MARCELO DA SILVA FOGAÇA   \n",
       "4                   1    MARCELO DA SILVA FOGAÇA   \n",
       "5                   1   CRISTIANO SANTOS ANTUNES   \n",
       "\n",
       "                             DS_RECEITA VR_RECEITA   ano  \n",
       "1  CONTRIBUIÇÕES - OUTRAS CONTRIBUIÇÕES        192  2017  \n",
       "2  CONTRIBUIÇÕES - OUTRAS CONTRIBUIÇÕES        192  2017  \n",
       "3           CONTRIBUIÇÕES - DE FILIADOS        115  2017  \n",
       "4           CONTRIBUIÇÕES - DE FILIADOS        115  2017  \n",
       "5  CONTRIBUIÇÕES - OUTRAS CONTRIBUIÇÕES        145  2017  "
      ]
     },
     "execution_count": 15,
     "metadata": {},
     "output_type": "execute_result"
    }
   ],
   "source": [
    "data.head()"
   ]
  },
  {
   "cell_type": "code",
   "execution_count": 16,
   "metadata": {},
   "outputs": [
    {
     "data": {
      "text/html": [
       "<div>\n",
       "<style scoped>\n",
       "    .dataframe tbody tr th:only-of-type {\n",
       "        vertical-align: middle;\n",
       "    }\n",
       "\n",
       "    .dataframe tbody tr th {\n",
       "        vertical-align: top;\n",
       "    }\n",
       "\n",
       "    .dataframe thead th {\n",
       "        text-align: right;\n",
       "    }\n",
       "</style>\n",
       "<table border=\"1\" class=\"dataframe\">\n",
       "  <thead>\n",
       "    <tr style=\"text-align: right;\">\n",
       "      <th></th>\n",
       "      <th>CD_MUNICIPIO</th>\n",
       "      <th>NM_MUNICIPIO</th>\n",
       "      <th>NR_CNPJ_PRESTADOR_CONTA</th>\n",
       "      <th>SG_PARTIDO</th>\n",
       "      <th>CD_TP_ORIGEM_DOACAO</th>\n",
       "      <th>NM_DOADOR</th>\n",
       "      <th>DS_RECEITA</th>\n",
       "      <th>VR_RECEITA</th>\n",
       "      <th>ano</th>\n",
       "    </tr>\n",
       "  </thead>\n",
       "  <tbody>\n",
       "    <tr>\n",
       "      <th>396740</th>\n",
       "      <td>8951</td>\n",
       "      <td>URUGUAIANA</td>\n",
       "      <td>12142720000170</td>\n",
       "      <td>PDT</td>\n",
       "      <td>1</td>\n",
       "      <td>ONEU CARDOSO FILHO</td>\n",
       "      <td>DOAÇÕES PARA MANUTENÇÃO DO PARTIDO - PESSOAS F...</td>\n",
       "      <td>30</td>\n",
       "      <td>2022</td>\n",
       "    </tr>\n",
       "    <tr>\n",
       "      <th>316761</th>\n",
       "      <td>994</td>\n",
       "      <td>MAÇAMBARÁ</td>\n",
       "      <td>2540665000113</td>\n",
       "      <td>MDB</td>\n",
       "      <td>1</td>\n",
       "      <td>VALDIR DA ROSA</td>\n",
       "      <td>CONTRIBUIÇÕES - DE FILIADOS</td>\n",
       "      <td>11,57</td>\n",
       "      <td>2021</td>\n",
       "    </tr>\n",
       "    <tr>\n",
       "      <th>72192</th>\n",
       "      <td>#NULO#</td>\n",
       "      <td>#NULO#</td>\n",
       "      <td>91340083000113</td>\n",
       "      <td>PT</td>\n",
       "      <td>1</td>\n",
       "      <td>OLIVIO DE OLIVEIRA DUTRA</td>\n",
       "      <td>DOAÇÕES PARA MANUTENÇÃO DO PARTIDO - PESSOAS F...</td>\n",
       "      <td>2000</td>\n",
       "      <td>2018</td>\n",
       "    </tr>\n",
       "    <tr>\n",
       "      <th>280302</th>\n",
       "      <td>8801</td>\n",
       "      <td>PORTO ALEGRE</td>\n",
       "      <td>3195803000137</td>\n",
       "      <td>PT</td>\n",
       "      <td>1</td>\n",
       "      <td>FRANCISCO EDELMIRO MARTINS</td>\n",
       "      <td>CONTRIBUIÇÕES - OUTRAS CONTRIBUIÇÕES</td>\n",
       "      <td>22,5</td>\n",
       "      <td>2020</td>\n",
       "    </tr>\n",
       "    <tr>\n",
       "      <th>6415</th>\n",
       "      <td>#NULO#</td>\n",
       "      <td>#NULO#</td>\n",
       "      <td>17623793000106</td>\n",
       "      <td>PSTU</td>\n",
       "      <td>1</td>\n",
       "      <td>MARIA ISABEL GOMES XAVIER</td>\n",
       "      <td>CONTRIBUIÇÕES - OUTRAS CONTRIBUIÇÕES</td>\n",
       "      <td>12</td>\n",
       "      <td>2017</td>\n",
       "    </tr>\n",
       "  </tbody>\n",
       "</table>\n",
       "</div>"
      ],
      "text/plain": [
       "       CD_MUNICIPIO  NM_MUNICIPIO  NR_CNPJ_PRESTADOR_CONTA SG_PARTIDO  \\\n",
       "396740         8951    URUGUAIANA           12142720000170        PDT   \n",
       "316761          994     MAÇAMBARÁ            2540665000113        MDB   \n",
       "72192        #NULO#        #NULO#           91340083000113         PT   \n",
       "280302         8801  PORTO ALEGRE            3195803000137         PT   \n",
       "6415         #NULO#        #NULO#           17623793000106       PSTU   \n",
       "\n",
       "       CD_TP_ORIGEM_DOACAO                   NM_DOADOR  \\\n",
       "396740                   1          ONEU CARDOSO FILHO   \n",
       "316761                   1              VALDIR DA ROSA   \n",
       "72192                    1    OLIVIO DE OLIVEIRA DUTRA   \n",
       "280302                   1  FRANCISCO EDELMIRO MARTINS   \n",
       "6415                     1   MARIA ISABEL GOMES XAVIER   \n",
       "\n",
       "                                               DS_RECEITA VR_RECEITA   ano  \n",
       "396740  DOAÇÕES PARA MANUTENÇÃO DO PARTIDO - PESSOAS F...         30  2022  \n",
       "316761                        CONTRIBUIÇÕES - DE FILIADOS      11,57  2021  \n",
       "72192   DOAÇÕES PARA MANUTENÇÃO DO PARTIDO - PESSOAS F...       2000  2018  \n",
       "280302               CONTRIBUIÇÕES - OUTRAS CONTRIBUIÇÕES       22,5  2020  \n",
       "6415                 CONTRIBUIÇÕES - OUTRAS CONTRIBUIÇÕES         12  2017  "
      ]
     },
     "execution_count": 16,
     "metadata": {},
     "output_type": "execute_result"
    }
   ],
   "source": [
    "data.sample(n=5)"
   ]
  },
  {
   "cell_type": "code",
   "execution_count": 17,
   "metadata": {},
   "outputs": [],
   "source": [
    "data.replace('#NULO#', np.nan, inplace=True)"
   ]
  },
  {
   "cell_type": "code",
   "execution_count": 18,
   "metadata": {},
   "outputs": [
    {
     "data": {
      "text/plain": [
       "<Axes: >"
      ]
     },
     "execution_count": 18,
     "metadata": {},
     "output_type": "execute_result"
    },
    {
     "data": {
      "image/png": "[encoded data removed]",
      "text/plain": [
       "<Figure size 640x480 with 2 Axes>"
      ]
     },
     "metadata": {},
     "output_type": "display_data"
    }
   ],
   "source": [
    "sns.heatmap(data.isna())"
   ]
  },
  {
   "cell_type": "code",
   "execution_count": 19,
   "metadata": {},
   "outputs": [
    {
     "name": "stdout",
     "output_type": "stream",
     "text": [
      "45589\n"
     ]
    }
   ],
   "source": [
    "num_nulos_nm_municipio = data['NM_DOADOR'].isna().sum()\n",
    "print(num_nulos_nm_municipio)"
   ]
  },
  {
   "cell_type": "code",
   "execution_count": 20,
   "metadata": {},
   "outputs": [
    {
     "name": "stdout",
     "output_type": "stream",
     "text": [
      "SG_PARTIDO\n",
      "AGIR               16\n",
      "AVANTE             15\n",
      "CIDADANIA         525\n",
      "DC                  8\n",
      "DEM               566\n",
      "MDB              4597\n",
      "MOBILIZA            1\n",
      "NOVO             1743\n",
      "PATRIOTA            8\n",
      "PC do B           522\n",
      "PCB                82\n",
      "PDT              2974\n",
      "PHS                26\n",
      "PL                210\n",
      "PODE              181\n",
      "PP               4775\n",
      "PPL                 1\n",
      "PRD                 5\n",
      "PROS               33\n",
      "PRTB                7\n",
      "PSB              1151\n",
      "PSC                92\n",
      "PSD               346\n",
      "PSDB             1627\n",
      "PSL               142\n",
      "PSOL              349\n",
      "PSTU                3\n",
      "PT              22963\n",
      "PTB              1645\n",
      "PV                 59\n",
      "REDE              108\n",
      "REPUBLICANOS      595\n",
      "SDD               156\n",
      "UNIÃO              40\n",
      "UP                 18\n",
      "Name: NM_DOADOR, dtype: int64\n"
     ]
    }
   ],
   "source": [
    "partidos_com_nulos = data.groupby('SG_PARTIDO')['NM_DOADOR'].apply(lambda x: x.isna().sum())\n",
    "partidos_com_nulos = partidos_com_nulos[partidos_com_nulos > 0]\n",
    "\n",
    "print(partidos_com_nulos)"
   ]
  },
  {
   "cell_type": "code",
   "execution_count": 21,
   "metadata": {},
   "outputs": [
    {
     "name": "stderr",
     "output_type": "stream",
     "text": [
      "/tmp/ipykernel_5157/2332581049.py:5: FutureWarning: DataFrame.applymap has been deprecated. Use DataFrame.map instead.\n",
      "  data = data.applymap(format_value)\n"
     ]
    }
   ],
   "source": [
    "def format_value(value):\n",
    "    if isinstance(value, str) and value.startswith(','):\n",
    "        return '0' + value\n",
    "    return value\n",
    "data = data.applymap(format_value)\n",
    "\n",
    "data['VR_RECEITA'] = data['VR_RECEITA'].str.replace(',', '.').astype(float)"
   ]
  },
  {
   "cell_type": "code",
   "execution_count": 22,
   "metadata": {},
   "outputs": [],
   "source": [
    "# total_vr_pagamento_por_partido = data.groupby('SG_PARTIDO')['VR_RECEITA'].sum()\n",
    "# total_vr_pagamento_por_partido = total_vr_pagamento_por_partido.sort_values(ascending=False)\n",
    "\n",
    "# print(total_vr_pagamento_por_partido)"
   ]
  },
  {
   "cell_type": "code",
   "execution_count": 23,
   "metadata": {},
   "outputs": [],
   "source": [
    "# def top_20_vr_pagamento(df):\n",
    "#     return df.nlargest(20, 'VR_RECEITA')\n",
    "\n",
    "# top_20 = top_20_vr_pagamento(data)\n",
    "# print(top_20)"
   ]
  },
  {
   "cell_type": "code",
   "execution_count": 24,
   "metadata": {},
   "outputs": [],
   "source": [
    "# print(data['NR_CNPJ_PRESTADOR_CONTA'].dtype)"
   ]
  },
  {
   "cell_type": "code",
   "execution_count": 25,
   "metadata": {},
   "outputs": [],
   "source": [
    "# def encontrar_inss(df):\n",
    "#     valor_busca = 11036509000100\n",
    "#     return df[df['NR_CNPJ_PRESTADOR_CONTA'] == valor_busca]\n",
    "\n",
    "# ins = encontrar_inss(data)\n",
    "# print(ins['VR_RECEITA'].sum())"
   ]
  },
  {
   "cell_type": "code",
   "execution_count": 26,
   "metadata": {},
   "outputs": [],
   "source": [
    "# print(top_20_vr_pagamento(ins))"
   ]
  },
  {
   "cell_type": "code",
   "execution_count": 35,
   "metadata": {},
   "outputs": [],
   "source": [
    "receita = data.groupby(['SG_PARTIDO', 'ano'])['VR_RECEITA'].sum().reset_index()\n",
    "\n",
    "receita.columns = ['PARTIDO', 'ANO', 'RECEITA']\n",
    "receita['RECEITA'] = receita['RECEITA'].round(2)\n",
    "receita = receita.sort_values(by='ANO')\n",
    "\n",
    "receita.to_csv(\"receita_geral_RS.csv\", index = False)"
   ]
  },
  {
   "cell_type": "code",
   "execution_count": 36,
   "metadata": {},
   "outputs": [],
   "source": [
    "receita = data.groupby(['SG_PARTIDO'])['VR_RECEITA'].sum().reset_index()\n",
    "\n",
    "receita.columns = ['PARTIDO', 'RECEITA']\n",
    "receita['RECEITA'] = receita['RECEITA'].round(2)\n",
    "receita = receita.sort_values(by='RECEITA', ascending=False)\n",
    "\n",
    "receita.to_csv(\"receita_geral_RS_total.csv\", index = False)"
   ]
  },
  {
   "cell_type": "code",
   "execution_count": 34,
   "metadata": {},
   "outputs": [
    {
     "name": "stdout",
     "output_type": "stream",
     "text": [
      "1482\n"
     ]
    }
   ],
   "source": [
    "valores_menores = data[data['VR_RECEITA'] == 0.01]\n",
    "print(len(valores_menores))"
   ]
  }
 ],
 "metadata": {
  "kernelspec": {
   "display_name": "ships",
   "language": "python",
   "name": "python3"
  },
  "language_info": {
   "codemirror_mode": {
    "name": "ipython",
    "version": 3
   },
   "file_extension": ".py",
   "mimetype": "text/x-python",
   "name": "python",
   "nbconvert_exporter": "python",
   "pygments_lexer": "ipython3",
   "version": "3.12.4"
  }
 },
 "nbformat": 4,
 "nbformat_minor": 2
}
